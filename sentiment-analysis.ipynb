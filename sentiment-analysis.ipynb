{
 "cells": [
  {
   "cell_type": "code",
   "id": "initial_id",
   "metadata": {
    "collapsed": true,
    "ExecuteTime": {
     "end_time": "2025-07-06T12:20:41.882303Z",
     "start_time": "2025-07-06T12:20:37.630307Z"
    }
   },
   "source": [
    "import torch\n",
    "import torchvision\n",
    "\n",
    "print(\"CUDA available:\", torch.cuda.is_available())\n",
    "print(\"GPU:\", torch.cuda.get_device_name(0))\n",
    "print(\"Torch version:\", torch.__version__)\n",
    "print(\"Torchvision version:\", torchvision.__version__)\n"
   ],
   "outputs": [
    {
     "name": "stdout",
     "output_type": "stream",
     "text": [
      "CUDA available: True\n",
      "GPU: NVIDIA GeForce RTX 2060\n",
      "Torch version: 2.7.1+cu118\n",
      "Torchvision version: 0.22.1+cu118\n"
     ]
    }
   ],
   "execution_count": 1
  },
  {
   "metadata": {
    "ExecuteTime": {
     "end_time": "2025-07-06T12:21:51.351229Z",
     "start_time": "2025-07-06T12:21:50.545868Z"
    }
   },
   "cell_type": "code",
   "source": [
    "import pandas as pd\n",
    "\n",
    "books = pd.read_csv('books_with_categories.csv')"
   ],
   "id": "ff001b96a0788a2",
   "outputs": [],
   "execution_count": 2
  },
  {
   "metadata": {
    "ExecuteTime": {
     "end_time": "2025-07-06T12:25:02.993729Z",
     "start_time": "2025-07-06T12:22:16.861353Z"
    }
   },
   "cell_type": "code",
   "source": [
    "from transformers import pipeline\n",
    "classifier = pipeline(\"text-classification\",\n",
    "                      model=\"j-hartmann/emotion-english-distilroberta-base\",\n",
    "                      top_k = None,\n",
    "                      device = 0)\n",
    "classifier(\"I love this!\")"
   ],
   "id": "6b4edf844a844e9a",
   "outputs": [
    {
     "data": {
      "text/plain": [
       "config.json: 0.00B [00:00, ?B/s]"
      ],
      "application/vnd.jupyter.widget-view+json": {
       "version_major": 2,
       "version_minor": 0,
       "model_id": "edbe7a7843664ebeae429b11cd23418b"
      }
     },
     "metadata": {},
     "output_type": "display_data"
    },
    {
     "name": "stderr",
     "output_type": "stream",
     "text": [
      "C:\\Users\\j_san\\PycharmProjects\\book-recommender\\.venv\\Lib\\site-packages\\huggingface_hub\\file_download.py:140: UserWarning: `huggingface_hub` cache-system uses symlinks by default to efficiently store duplicated files but your machine does not support them in C:\\Users\\j_san\\.cache\\huggingface\\hub\\models--j-hartmann--emotion-english-distilroberta-base. Caching files will still work but in a degraded version that might require more space on your disk. This warning can be disabled by setting the `HF_HUB_DISABLE_SYMLINKS_WARNING` environment variable. For more details, see https://huggingface.co/docs/huggingface_hub/how-to-cache#limitations.\n",
      "To support symlinks on Windows, you either need to activate Developer Mode or to run Python as an administrator. In order to activate developer mode, see this article: https://docs.microsoft.com/en-us/windows/apps/get-started/enable-your-device-for-development\n",
      "  warnings.warn(message)\n"
     ]
    },
    {
     "data": {
      "text/plain": [
       "pytorch_model.bin:   0%|          | 0.00/329M [00:00<?, ?B/s]"
      ],
      "application/vnd.jupyter.widget-view+json": {
       "version_major": 2,
       "version_minor": 0,
       "model_id": "c0da95c513b44835912173d04d0b1a89"
      }
     },
     "metadata": {},
     "output_type": "display_data"
    },
    {
     "data": {
      "text/plain": [
       "tokenizer_config.json:   0%|          | 0.00/294 [00:00<?, ?B/s]"
      ],
      "application/vnd.jupyter.widget-view+json": {
       "version_major": 2,
       "version_minor": 0,
       "model_id": "92384902023847d294f50cb72442b736"
      }
     },
     "metadata": {},
     "output_type": "display_data"
    },
    {
     "data": {
      "text/plain": [
       "vocab.json: 0.00B [00:00, ?B/s]"
      ],
      "application/vnd.jupyter.widget-view+json": {
       "version_major": 2,
       "version_minor": 0,
       "model_id": "5c41838f28984375bd40c9796bef26ed"
      }
     },
     "metadata": {},
     "output_type": "display_data"
    },
    {
     "data": {
      "text/plain": [
       "merges.txt: 0.00B [00:00, ?B/s]"
      ],
      "application/vnd.jupyter.widget-view+json": {
       "version_major": 2,
       "version_minor": 0,
       "model_id": "cea5523bd0644ec2a70487d0a9286570"
      }
     },
     "metadata": {},
     "output_type": "display_data"
    },
    {
     "data": {
      "text/plain": [
       "tokenizer.json: 0.00B [00:00, ?B/s]"
      ],
      "application/vnd.jupyter.widget-view+json": {
       "version_major": 2,
       "version_minor": 0,
       "model_id": "6083faeb983048a7864ffc78dfd40c9e"
      }
     },
     "metadata": {},
     "output_type": "display_data"
    },
    {
     "data": {
      "text/plain": [
       "special_tokens_map.json:   0%|          | 0.00/239 [00:00<?, ?B/s]"
      ],
      "application/vnd.jupyter.widget-view+json": {
       "version_major": 2,
       "version_minor": 0,
       "model_id": "7d3f80bdbec347dfa0afb8343a2b3b97"
      }
     },
     "metadata": {},
     "output_type": "display_data"
    },
    {
     "name": "stderr",
     "output_type": "stream",
     "text": [
      "Device set to use cuda:0\n"
     ]
    },
    {
     "data": {
      "text/plain": [
       "[[{'label': 'joy', 'score': 0.9771687984466553},\n",
       "  {'label': 'surprise', 'score': 0.008528691716492176},\n",
       "  {'label': 'neutral', 'score': 0.0057645998895168304},\n",
       "  {'label': 'anger', 'score': 0.004419785924255848},\n",
       "  {'label': 'sadness', 'score': 0.0020923952106386423},\n",
       "  {'label': 'disgust', 'score': 0.0016119939973577857},\n",
       "  {'label': 'fear', 'score': 0.0004138521908316761}]]"
      ]
     },
     "execution_count": 3,
     "metadata": {},
     "output_type": "execute_result"
    }
   ],
   "execution_count": 3
  },
  {
   "metadata": {},
   "cell_type": "markdown",
   "source": "Now based on the pipeline(sentiment classifier) we want to classify the book description so we can recommend books based on the mood of user",
   "id": "e412a314bbc68a62"
  },
  {
   "metadata": {
    "ExecuteTime": {
     "end_time": "2025-07-06T13:09:33.698452Z",
     "start_time": "2025-07-06T13:09:33.692452Z"
    }
   },
   "cell_type": "code",
   "source": [
    "import numpy as np\n",
    "\n",
    "emotion_labels = [\"anger\", \"disgust\", \"fear\", \"joy\", \"sadness\", \"surprise\", \"neutral\"]\n",
    "isbn = []\n",
    "emotion_scores = {label: [] for label in emotion_labels}"
   ],
   "id": "e4833ee9ca76bf2c",
   "outputs": [],
   "execution_count": 6
  },
  {
   "metadata": {
    "ExecuteTime": {
     "end_time": "2025-07-06T13:09:34.874874Z",
     "start_time": "2025-07-06T13:09:34.868861Z"
    }
   },
   "cell_type": "code",
   "source": [
    "\n",
    "\n",
    "def calculate_max_emotion_scores(predictions):\n",
    "    per_emotion_scores = {label: [] for label in emotion_labels}\n",
    "    for prediction in predictions:\n",
    "        sorted_predictions = sorted(prediction, key=lambda x: x[\"label\"])\n",
    "        for index, label in enumerate(emotion_labels):\n",
    "            per_emotion_scores[label].append(sorted_predictions[index][\"score\"])\n",
    "    return {label: np.max(scores) for label, scores in per_emotion_scores.items()}"
   ],
   "id": "adda84dc3af9cf7c",
   "outputs": [],
   "execution_count": 7
  },
  {
   "metadata": {},
   "cell_type": "markdown",
   "source": "Test our function",
   "id": "c8480e82ff3bbd6d"
  },
  {
   "metadata": {
    "ExecuteTime": {
     "end_time": "2025-07-06T13:09:38.119952Z",
     "start_time": "2025-07-06T13:09:37.386941Z"
    }
   },
   "cell_type": "code",
   "source": [
    "for i in range(10):\n",
    "    isbn.append(books[\"isbn13\"][i])\n",
    "    sentences = books[\"description\"][i].split(\".\")\n",
    "    predictions = classifier(sentences)\n",
    "    max_scores = calculate_max_emotion_scores(predictions)\n",
    "    for label in emotion_labels:\n",
    "        emotion_scores[label].append(max_scores[label])"
   ],
   "id": "2bfb76f5f4709a08",
   "outputs": [
    {
     "name": "stderr",
     "output_type": "stream",
     "text": [
      "You seem to be using the pipelines sequentially on GPU. In order to maximize efficiency please use a dataset\n"
     ]
    }
   ],
   "execution_count": 8
  },
  {
   "metadata": {
    "ExecuteTime": {
     "end_time": "2025-07-06T13:09:55.566251Z",
     "start_time": "2025-07-06T13:09:55.560293Z"
    }
   },
   "cell_type": "code",
   "source": "emotion_scores",
   "id": "a525f53bc562f593",
   "outputs": [
    {
     "data": {
      "text/plain": [
       "{'anger': [0.06413372606039047,\n",
       "  0.6126183867454529,\n",
       "  0.06413372606039047,\n",
       "  0.3514837622642517,\n",
       "  0.08141253143548965,\n",
       "  0.23222483694553375,\n",
       "  0.538183867931366,\n",
       "  0.06413372606039047,\n",
       "  0.3006700277328491,\n",
       "  0.06413372606039047],\n",
       " 'disgust': [0.27359187602996826,\n",
       "  0.3482852578163147,\n",
       "  0.10400673002004623,\n",
       "  0.15072230994701385,\n",
       "  0.1844954490661621,\n",
       "  0.7271748185157776,\n",
       "  0.15585504472255707,\n",
       "  0.10400673002004623,\n",
       "  0.2794812023639679,\n",
       "  0.17792722582817078],\n",
       " 'fear': [0.928167998790741,\n",
       "  0.942527711391449,\n",
       "  0.9723208546638489,\n",
       "  0.3607068955898285,\n",
       "  0.09504333883523941,\n",
       "  0.05136285722255707,\n",
       "  0.7474281191825867,\n",
       "  0.40449631214141846,\n",
       "  0.9155242443084717,\n",
       "  0.05136285722255707],\n",
       " 'joy': [0.9327975511550903,\n",
       "  0.7044219970703125,\n",
       "  0.7672370672225952,\n",
       "  0.2518812119960785,\n",
       "  0.04056446626782417,\n",
       "  0.0433758944272995,\n",
       "  0.8725655674934387,\n",
       "  0.04056446626782417,\n",
       "  0.04056446626782417,\n",
       "  0.04056446626782417],\n",
       " 'sadness': [0.6462162733078003,\n",
       "  0.887939453125,\n",
       "  0.5494763851165771,\n",
       "  0.7326852679252625,\n",
       "  0.8843894600868225,\n",
       "  0.6213926672935486,\n",
       "  0.712194561958313,\n",
       "  0.5494763851165771,\n",
       "  0.8402897119522095,\n",
       "  0.8603722453117371],\n",
       " 'surprise': [0.9671575427055359,\n",
       "  0.11169023811817169,\n",
       "  0.11169023811817169,\n",
       "  0.11169023811817169,\n",
       "  0.47588080167770386,\n",
       "  0.11169023811817169,\n",
       "  0.4080006182193756,\n",
       "  0.8202826380729675,\n",
       "  0.354460209608078,\n",
       "  0.11169023811817169],\n",
       " 'neutral': [0.7296026349067688,\n",
       "  0.25254547595977783,\n",
       "  0.07876558601856232,\n",
       "  0.07876558601856232,\n",
       "  0.07876558601856232,\n",
       "  0.27190276980400085,\n",
       "  0.07876558601856232,\n",
       "  0.234487384557724,\n",
       "  0.1356143057346344,\n",
       "  0.07876558601856232]}"
      ]
     },
     "execution_count": 9,
     "metadata": {},
     "output_type": "execute_result"
    }
   ],
   "execution_count": 9
  },
  {
   "metadata": {
    "ExecuteTime": {
     "end_time": "2025-07-06T13:13:20.339760Z",
     "start_time": "2025-07-06T13:10:06.418786Z"
    }
   },
   "cell_type": "code",
   "source": [
    "from tqdm import tqdm\n",
    "\n",
    "emotion_labels = [\"anger\", \"disgust\", \"fear\", \"joy\", \"sadness\", \"surprise\", \"neutral\"]\n",
    "isbn = []\n",
    "emotion_scores = {label: [] for label in emotion_labels}\n",
    "\n",
    "for i in tqdm(range(len(books))):\n",
    "    isbn.append(books[\"isbn13\"][i])\n",
    "    sentences = books[\"description\"][i].split(\".\")\n",
    "    predictions = classifier(sentences)\n",
    "    max_scores = calculate_max_emotion_scores(predictions)\n",
    "    for label in emotion_labels:\n",
    "        emotion_scores[label].append(max_scores[label])"
   ],
   "id": "d54703c426c3490c",
   "outputs": [
    {
     "name": "stderr",
     "output_type": "stream",
     "text": [
      "100%|██████████| 5197/5197 [03:13<00:00, 26.80it/s]\n"
     ]
    }
   ],
   "execution_count": 10
  },
  {
   "metadata": {
    "ExecuteTime": {
     "end_time": "2025-07-06T13:16:45.596792Z",
     "start_time": "2025-07-06T13:16:45.555719Z"
    }
   },
   "cell_type": "code",
   "source": [
    "emotions_df = pd.DataFrame(emotion_scores)\n",
    "emotions_df[\"isbn13\"] = isbn"
   ],
   "id": "3506daa63500fa56",
   "outputs": [],
   "execution_count": 11
  },
  {
   "metadata": {
    "ExecuteTime": {
     "end_time": "2025-07-06T13:17:04.394781Z",
     "start_time": "2025-07-06T13:17:04.372666Z"
    }
   },
   "cell_type": "code",
   "source": "emotions_df",
   "id": "e2e8029d02657a7c",
   "outputs": [
    {
     "data": {
      "text/plain": [
       "         anger   disgust      fear       joy   sadness  surprise   neutral  \\\n",
       "0     0.064134  0.273592  0.928168  0.932798  0.646216  0.967158  0.729603   \n",
       "1     0.612618  0.348285  0.942528  0.704422  0.887939  0.111690  0.252545   \n",
       "2     0.064134  0.104007  0.972321  0.767237  0.549476  0.111690  0.078766   \n",
       "3     0.351484  0.150722  0.360707  0.251881  0.732685  0.111690  0.078766   \n",
       "4     0.081413  0.184495  0.095043  0.040564  0.884389  0.475881  0.078766   \n",
       "...        ...       ...       ...       ...       ...       ...       ...   \n",
       "5192  0.148208  0.030643  0.919165  0.255171  0.853722  0.980877  0.030656   \n",
       "5193  0.064134  0.114383  0.051363  0.400263  0.883198  0.111690  0.227765   \n",
       "5194  0.009997  0.009929  0.339218  0.947779  0.375755  0.066685  0.057625   \n",
       "5195  0.064134  0.104007  0.459269  0.759456  0.951104  0.368111  0.078766   \n",
       "5196  0.064134  0.104007  0.051363  0.958549  0.915193  0.111690  0.078766   \n",
       "\n",
       "             isbn13  \n",
       "0     9780002005883  \n",
       "1     9780002261982  \n",
       "2     9780006178736  \n",
       "3     9780006280897  \n",
       "4     9780006280934  \n",
       "...             ...  \n",
       "5192  9788172235222  \n",
       "5193  9788173031014  \n",
       "5194  9788179921623  \n",
       "5195  9788185300535  \n",
       "5196  9789027712059  \n",
       "\n",
       "[5197 rows x 8 columns]"
      ],
      "text/html": [
       "<div>\n",
       "<style scoped>\n",
       "    .dataframe tbody tr th:only-of-type {\n",
       "        vertical-align: middle;\n",
       "    }\n",
       "\n",
       "    .dataframe tbody tr th {\n",
       "        vertical-align: top;\n",
       "    }\n",
       "\n",
       "    .dataframe thead th {\n",
       "        text-align: right;\n",
       "    }\n",
       "</style>\n",
       "<table border=\"1\" class=\"dataframe\">\n",
       "  <thead>\n",
       "    <tr style=\"text-align: right;\">\n",
       "      <th></th>\n",
       "      <th>anger</th>\n",
       "      <th>disgust</th>\n",
       "      <th>fear</th>\n",
       "      <th>joy</th>\n",
       "      <th>sadness</th>\n",
       "      <th>surprise</th>\n",
       "      <th>neutral</th>\n",
       "      <th>isbn13</th>\n",
       "    </tr>\n",
       "  </thead>\n",
       "  <tbody>\n",
       "    <tr>\n",
       "      <th>0</th>\n",
       "      <td>0.064134</td>\n",
       "      <td>0.273592</td>\n",
       "      <td>0.928168</td>\n",
       "      <td>0.932798</td>\n",
       "      <td>0.646216</td>\n",
       "      <td>0.967158</td>\n",
       "      <td>0.729603</td>\n",
       "      <td>9780002005883</td>\n",
       "    </tr>\n",
       "    <tr>\n",
       "      <th>1</th>\n",
       "      <td>0.612618</td>\n",
       "      <td>0.348285</td>\n",
       "      <td>0.942528</td>\n",
       "      <td>0.704422</td>\n",
       "      <td>0.887939</td>\n",
       "      <td>0.111690</td>\n",
       "      <td>0.252545</td>\n",
       "      <td>9780002261982</td>\n",
       "    </tr>\n",
       "    <tr>\n",
       "      <th>2</th>\n",
       "      <td>0.064134</td>\n",
       "      <td>0.104007</td>\n",
       "      <td>0.972321</td>\n",
       "      <td>0.767237</td>\n",
       "      <td>0.549476</td>\n",
       "      <td>0.111690</td>\n",
       "      <td>0.078766</td>\n",
       "      <td>9780006178736</td>\n",
       "    </tr>\n",
       "    <tr>\n",
       "      <th>3</th>\n",
       "      <td>0.351484</td>\n",
       "      <td>0.150722</td>\n",
       "      <td>0.360707</td>\n",
       "      <td>0.251881</td>\n",
       "      <td>0.732685</td>\n",
       "      <td>0.111690</td>\n",
       "      <td>0.078766</td>\n",
       "      <td>9780006280897</td>\n",
       "    </tr>\n",
       "    <tr>\n",
       "      <th>4</th>\n",
       "      <td>0.081413</td>\n",
       "      <td>0.184495</td>\n",
       "      <td>0.095043</td>\n",
       "      <td>0.040564</td>\n",
       "      <td>0.884389</td>\n",
       "      <td>0.475881</td>\n",
       "      <td>0.078766</td>\n",
       "      <td>9780006280934</td>\n",
       "    </tr>\n",
       "    <tr>\n",
       "      <th>...</th>\n",
       "      <td>...</td>\n",
       "      <td>...</td>\n",
       "      <td>...</td>\n",
       "      <td>...</td>\n",
       "      <td>...</td>\n",
       "      <td>...</td>\n",
       "      <td>...</td>\n",
       "      <td>...</td>\n",
       "    </tr>\n",
       "    <tr>\n",
       "      <th>5192</th>\n",
       "      <td>0.148208</td>\n",
       "      <td>0.030643</td>\n",
       "      <td>0.919165</td>\n",
       "      <td>0.255171</td>\n",
       "      <td>0.853722</td>\n",
       "      <td>0.980877</td>\n",
       "      <td>0.030656</td>\n",
       "      <td>9788172235222</td>\n",
       "    </tr>\n",
       "    <tr>\n",
       "      <th>5193</th>\n",
       "      <td>0.064134</td>\n",
       "      <td>0.114383</td>\n",
       "      <td>0.051363</td>\n",
       "      <td>0.400263</td>\n",
       "      <td>0.883198</td>\n",
       "      <td>0.111690</td>\n",
       "      <td>0.227765</td>\n",
       "      <td>9788173031014</td>\n",
       "    </tr>\n",
       "    <tr>\n",
       "      <th>5194</th>\n",
       "      <td>0.009997</td>\n",
       "      <td>0.009929</td>\n",
       "      <td>0.339218</td>\n",
       "      <td>0.947779</td>\n",
       "      <td>0.375755</td>\n",
       "      <td>0.066685</td>\n",
       "      <td>0.057625</td>\n",
       "      <td>9788179921623</td>\n",
       "    </tr>\n",
       "    <tr>\n",
       "      <th>5195</th>\n",
       "      <td>0.064134</td>\n",
       "      <td>0.104007</td>\n",
       "      <td>0.459269</td>\n",
       "      <td>0.759456</td>\n",
       "      <td>0.951104</td>\n",
       "      <td>0.368111</td>\n",
       "      <td>0.078766</td>\n",
       "      <td>9788185300535</td>\n",
       "    </tr>\n",
       "    <tr>\n",
       "      <th>5196</th>\n",
       "      <td>0.064134</td>\n",
       "      <td>0.104007</td>\n",
       "      <td>0.051363</td>\n",
       "      <td>0.958549</td>\n",
       "      <td>0.915193</td>\n",
       "      <td>0.111690</td>\n",
       "      <td>0.078766</td>\n",
       "      <td>9789027712059</td>\n",
       "    </tr>\n",
       "  </tbody>\n",
       "</table>\n",
       "<p>5197 rows × 8 columns</p>\n",
       "</div>"
      ]
     },
     "execution_count": 12,
     "metadata": {},
     "output_type": "execute_result"
    }
   ],
   "execution_count": 12
  },
  {
   "metadata": {
    "ExecuteTime": {
     "end_time": "2025-07-06T13:17:37.855275Z",
     "start_time": "2025-07-06T13:17:37.827780Z"
    }
   },
   "cell_type": "code",
   "source": "books = pd.merge(books, emotions_df, on = \"isbn13\")",
   "id": "f26db9ab4a2244eb",
   "outputs": [],
   "execution_count": 13
  },
  {
   "metadata": {
    "ExecuteTime": {
     "end_time": "2025-07-06T13:17:50.379638Z",
     "start_time": "2025-07-06T13:17:50.187108Z"
    }
   },
   "cell_type": "code",
   "source": "books.to_csv(\"books_with_emotions.csv\", index = False)",
   "id": "54cf2cba6f9624d5",
   "outputs": [],
   "execution_count": 14
  },
  {
   "metadata": {},
   "cell_type": "code",
   "outputs": [],
   "execution_count": null,
   "source": "",
   "id": "98e9bc5240043781"
  }
 ],
 "metadata": {
  "kernelspec": {
   "display_name": "Python 3",
   "language": "python",
   "name": "python3"
  },
  "language_info": {
   "codemirror_mode": {
    "name": "ipython",
    "version": 2
   },
   "file_extension": ".py",
   "mimetype": "text/x-python",
   "name": "python",
   "nbconvert_exporter": "python",
   "pygments_lexer": "ipython2",
   "version": "2.7.6"
  }
 },
 "nbformat": 4,
 "nbformat_minor": 5
}
